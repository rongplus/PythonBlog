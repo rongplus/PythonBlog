{
 "cells": [
  {
   "cell_type": "code",
   "execution_count": null,
   "metadata": {},
   "outputs": [
    {
     "name": "stdout",
     "output_type": "stream",
     "text": [
      "start job  0 2018-06-07-111602\n",
      "row = 100000End job  0 2018-06-07-112238\n",
      "start job  1 2018-06-07-112238\n",
      "row = 100000End job  1 2018-06-07-113639\n",
      "start job  2 2018-06-07-113639\n",
      "row = 100000End job  2 2018-06-07-115841\n",
      "start job  3 2018-06-07-115841\n",
      "row = 100000End job  3 2018-06-07-123117\n",
      "start job  4 2018-06-07-123117\n",
      "row = 100000End job  4 2018-06-07-131654\n",
      "start job  5 2018-06-07-131654\n",
      "row = 100000End job  5 2018-06-07-141000\n",
      "start job  6 2018-06-07-141000\n",
      "row = 100000End job  6 2018-06-07-151648\n",
      "start job  7 2018-06-07-151648\n",
      "row = 100000End job  7 2018-06-07-173455\n",
      "start job  8 2018-06-07-173455\n",
      "row = 26265"
     ]
    }
   ],
   "source": [
    "import multiprocessing\n",
    "from sys import stdout\n",
    "from multiprocessing import Process, Lock\n",
    "import threading\n",
    "import random\n",
    "import datetime\n",
    "import xlsxwriter\n",
    "from threading import Thread\n",
    "\n",
    "import pandas as pd\n",
    "import numpy as np\n",
    "\n",
    "\n",
    "\n",
    "\n",
    "l_s = ['A','B','C','D','E','F','G','H','I','J','K','L','M','N','O','P','Q','R','S','T',\n",
    "              'U','V','W','X','Y','Z','1','2','3','4','5','6','7','8','9','0']\n",
    "exist_lt = []\n",
    "total = 100\n",
    "row = 0\n",
    "\n",
    "\n",
    "def getIndex():    \n",
    "    s_number = []\n",
    "    while( len( s_number) < 20 ):\n",
    "        nm = random.randint(0,31)\n",
    "        if( s_number.count(nm) ==0 ):\n",
    "            s_number.append(nm)\n",
    "    return s_number\n",
    "\n",
    "\n",
    "\n",
    "\n",
    "def WriteToFile(dataframe,lt, nRow): \n",
    "    global l_s\n",
    "    row_data = []\n",
    "    dataframe.loc[nRow] = a\n",
    "    \n",
    "    for i in lt:        \n",
    "        row_data.append(l_s[i])\n",
    "        #print(\"add a col \" ,nRow, col, l_s[i])    \n",
    "    dataframe.loc[nRow] = row_data\n",
    "\n",
    "def doWork( ws, myLook):\n",
    "    \n",
    "    global row\n",
    "    global total\n",
    "    global exist_lt   \n",
    "    \n",
    "    while( row < total):\n",
    "        lt_index = getIndex()\n",
    "        s_lt = list(lt_index)\n",
    "        s_lt.sort()        \n",
    "        myLook.acquire()\n",
    "        if(row >= total):\n",
    "            myLook.release()  \n",
    "            break\n",
    "        #try:   \n",
    "        #print(\"count = \",exist_lt.count(s_lt), len(exist_lt))\n",
    "        if( exist_lt.count(s_lt) == 0):                 \n",
    "            exist_lt.append(s_lt)   \n",
    "            WriteToFile(ws,s_lt,row)\n",
    "            row+=1\n",
    "            stdout.write(\"\\rrow = %d\" % row)\n",
    "            stdout.flush()\n",
    "            #sleep(0.1)\n",
    "        #finally:\n",
    "        myLook.release()  \n",
    "        \n",
    "\n",
    "\n",
    "if __name__ == '__main__':\n",
    "    lock = Lock()\n",
    "    global exist_lt\n",
    "    \n",
    "    sheet_columns = np.arange(1,21)\n",
    "\n",
    "    for i in range(11):\n",
    "        ss = datetime.datetime.now().strftime(\"%Y-%m-%d-%H%M%S\")\n",
    "        df = pd.DataFrame(columns = sheet_columns)\n",
    "        print(\"start job \", i, ss)\n",
    "        row = 0\n",
    "        col = 0  \n",
    "        \n",
    "        t = Thread(target=doWork, args=(df, lock ))\n",
    "        t1 = Thread(target=doWork, args=(df, lock ))\n",
    "        t2 = Thread(target=doWork, args=(df, lock ))\n",
    "        t.start()\n",
    "        t1.start()\n",
    "        t2.start()\n",
    "        t.join()\n",
    "        t1.join()\n",
    "        t2.join()\n",
    "        ss = datetime.datetime.now().strftime(\"%Y-%m-%d-%H%M%S\")\n",
    "        print(\"End job \", i , ss)\n",
    "        df.to_excel('output_' + i + '.xlsx')\n",
    "    \n",
    "    workbook.close()\n",
    "    ss = datetime.datetime.now().strftime(\"%Y-%m-%d-%H%M%S\")\n",
    "    print(\"Done all job \" + ss)\n",
    "print(\"Total rows= \",row)\n",
    "print (\"Sample rows = \", getIndex())"
   ]
  },
  {
   "cell_type": "code",
   "execution_count": 5,
   "metadata": {},
   "outputs": [
    {
     "name": "stdout",
     "output_type": "stream",
     "text": [
      "0 1 2 3 4 5 6 7 8 9 10 11 12 13 14 15 16 17 18 19 "
     ]
    }
   ],
   "source": [
    "import sys\n",
    "import time\n",
    "to = 20\n",
    "digits = len(str(to - 1))\n",
    "delete = \"\\b\" * (digits)\n",
    "for i in range(to):\n",
    "   print(i, end=\" \")\n",
    "   sys.stdout.flush()\n",
    "   time.sleep(1)"
   ]
  },
  {
   "cell_type": "code",
   "execution_count": 6,
   "metadata": {},
   "outputs": [
    {
     "ename": "NameError",
     "evalue": "name 'row' is not defined",
     "output_type": "error",
     "traceback": [
      "\u001b[0;31m---------------------------------------------------------------------------\u001b[0m",
      "\u001b[0;31mNameError\u001b[0m                                 Traceback (most recent call last)",
      "\u001b[0;32m<ipython-input-6-e1bf2d8dc4a4>\u001b[0m in \u001b[0;36m<module>\u001b[0;34m()\u001b[0m\n\u001b[0;32m----> 1\u001b[0;31m \u001b[0mprint\u001b[0m\u001b[0;34m(\u001b[0m\u001b[0mrow\u001b[0m\u001b[0;34m)\u001b[0m\u001b[0;34m\u001b[0m\u001b[0m\n\u001b[0m",
      "\u001b[0;31mNameError\u001b[0m: name 'row' is not defined"
     ]
    }
   ],
   "source": []
  }
 ],
 "metadata": {
  "kernelspec": {
   "display_name": "Python 3",
   "language": "python",
   "name": "python3"
  },
  "language_info": {
   "codemirror_mode": {
    "name": "ipython",
    "version": 3
   },
   "file_extension": ".py",
   "mimetype": "text/x-python",
   "name": "python",
   "nbconvert_exporter": "python",
   "pygments_lexer": "ipython3",
   "version": "3.6.5"
  }
 },
 "nbformat": 4,
 "nbformat_minor": 2
}
