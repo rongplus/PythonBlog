{
 "cells": [
  {
   "cell_type": "code",
   "execution_count": null,
   "metadata": {},
   "outputs": [
    {
     "name": "stdout",
     "output_type": "stream",
     "text": [
      "start job  0 2018-06-07-111602\n",
      "row = 100000End job  0 2018-06-07-112238\n",
      "start job  1 2018-06-07-112238\n",
      "row = 100000End job  1 2018-06-07-113639\n",
      "start job  2 2018-06-07-113639\n",
      "row = 100000End job  2 2018-06-07-115841\n",
      "start job  3 2018-06-07-115841\n",
      "row = 100000End job  3 2018-06-07-123117\n",
      "start job  4 2018-06-07-123117\n",
      "row = 100000End job  4 2018-06-07-131654\n",
      "start job  5 2018-06-07-131654\n",
      "row = 100000End job  5 2018-06-07-141000\n",
      "start job  6 2018-06-07-141000\n",
      "row = 100000End job  6 2018-06-07-151648\n",
      "start job  7 2018-06-07-151648\n",
      "row = 100000End job  7 2018-06-07-173455\n",
      "start job  8 2018-06-07-173455\n",
      "row = 82633"
     ]
    }
   ],
   "source": [
    "import multiprocessing\n",
    "from sys import stdout\n",
    "from multiprocessing import Process, Lock\n",
    "import threading\n",
    "import random\n",
    "import datetime\n",
    "import xlsxwriter\n",
    "from threading import Thread\n",
    "\n",
    "l_s = ['A','B','C','D','E','F','G','H','I','J','K','L','M','N','O','P','Q','R','S','T',\n",
    "              'U','V','W','X','Y','Z','1','2','3','4','5','6','7','8','9','0']\n",
    "exist_lt = []\n",
    "total = 100000\n",
    "row = 0\n",
    "\n",
    "\n",
    "def getIndex():    \n",
    "    s_number = []\n",
    "    while( len( s_number) < 20 ):\n",
    "        nm = random.randint(0,31)\n",
    "        if( s_number.count(nm) ==0 ):\n",
    "            s_number.append(nm)\n",
    "    return s_number\n",
    "\n",
    "\n",
    "\n",
    "\n",
    "def WriteToFile(ws,lt, nRow): \n",
    "    global l_s\n",
    "    col = 0\n",
    "    for i in lt:        \n",
    "        ws.write(nRow, col, l_s[i])\n",
    "        col +=1\n",
    "        #print(\"add a col \" ,nRow, col, l_s[i])    \n",
    "    \n",
    "\n",
    "def doWork( ws, myLook):\n",
    "    \n",
    "    global row\n",
    "    global total\n",
    "    global exist_lt   \n",
    "    \n",
    "    while( row < total):\n",
    "        lt_index = getIndex()\n",
    "        s_lt = list(lt_index)\n",
    "        s_lt.sort()        \n",
    "        myLook.acquire()\n",
    "        if(row >= total):\n",
    "            myLook.release()  \n",
    "            break\n",
    "        #try:   \n",
    "        #print(\"count = \",exist_lt.count(s_lt), len(exist_lt))\n",
    "        if( exist_lt.count(s_lt) == 0):                 \n",
    "            exist_lt.append(s_lt)   \n",
    "            WriteToFile(ws,s_lt,row)\n",
    "            row+=1\n",
    "            stdout.write(\"\\rrow = %d\" % row)\n",
    "            stdout.flush()\n",
    "            #sleep(0.1)\n",
    "        #finally:\n",
    "        myLook.release()  \n",
    "        \n",
    "\n",
    "\n",
    "if __name__ == '__main__':\n",
    "    lock = Lock()\n",
    "    global exist_lt\n",
    "    workbook = xlsxwriter.Workbook('letterstest.xlsx')\n",
    "    \n",
    "    for i in range(11):\n",
    "        ss = datetime.datetime.now().strftime(\"%Y-%m-%d-%H%M%S\")\n",
    "        \n",
    "        print(\"start job \", i, ss)\n",
    "        row = 0\n",
    "        col = 0  \n",
    "        worksheet = workbook.add_worksheet()\n",
    "        t = Thread(target=doWork, args=(worksheet, lock ))\n",
    "        t1 = Thread(target=doWork, args=(worksheet, lock ))\n",
    "        t2 = Thread(target=doWork, args=(worksheet, lock ))\n",
    "        t.start()\n",
    "        t1.start()\n",
    "        t2.start()\n",
    "        t.join()\n",
    "        t1.join()\n",
    "        t2.join()\n",
    "        ss = datetime.datetime.now().strftime(\"%Y-%m-%d-%H%M%S\")\n",
    "        print(\"End job \", i , ss)\n",
    "    \n",
    "    \n",
    "    workbook.close()\n",
    "    ss = datetime.datetime.now().strftime(\"%Y-%m-%d-%H%M%S\")\n",
    "    print(\"Done all job \" + ss)"
   ]
  },
  {
   "cell_type": "code",
   "execution_count": 6,
   "metadata": {},
   "outputs": [
    {
     "name": "stdout",
     "output_type": "stream",
     "text": [
      "100\n",
      "[7, 31, 28, 18, 15, 24, 17, 16, 6, 8, 2, 22, 21, 23, 9, 11, 25, 12, 13, 0]\n"
     ]
    }
   ],
   "source": [
    "print(row)\n",
    "print (getIndex())"
   ]
  },
  {
   "cell_type": "code",
   "execution_count": 37,
   "metadata": {},
   "outputs": [
    {
     "name": "stdout",
     "output_type": "stream",
     "text": [
      "run = 19\n"
     ]
    }
   ],
   "source": [
    "from sys import stdout\n",
    "from time import sleep\n",
    "for i in range(1,20):\n",
    "    stdout.write(\"\\rrun = %d\" % i)\n",
    "    stdout.flush()\n",
    "    sleep(1)\n",
    "stdout.write(\"\\n\")"
   ]
  },
  {
   "cell_type": "code",
   "execution_count": 36,
   "metadata": {},
   "outputs": [
    {
     "name": "stdout",
     "output_type": "stream",
     "text": [
      "0 1 2 3 4 5 6 7 8 9 10 11 12 13 14 15 16 17 18 19 "
     ]
    }
   ],
   "source": [
    "import sys\n",
    "to = 20\n",
    "digits = len(str(to - 1))\n",
    "delete = \"\\b\" * (digits)\n",
    "for i in range(to):\n",
    "   print(i, end=\" \")\n",
    "   sys.stdout.flush()\n",
    "   sleep(1)"
   ]
  },
  {
   "cell_type": "code",
   "execution_count": 46,
   "metadata": {},
   "outputs": [
    {
     "name": "stdout",
     "output_type": "stream",
     "text": [
      "1\n"
     ]
    }
   ],
   "source": [
    "import sys\n",
    "num = 0\n",
    "def fun1():\n",
    "    global num\n",
    "    num +=1\n",
    "    \n",
    "fun1()\n",
    "\n",
    "print(num)"
   ]
  }
 ],
 "metadata": {
  "kernelspec": {
   "display_name": "Python 3",
   "language": "python",
   "name": "python3"
  },
  "language_info": {
   "codemirror_mode": {
    "name": "ipython",
    "version": 3
   },
   "file_extension": ".py",
   "mimetype": "text/x-python",
   "name": "python",
   "nbconvert_exporter": "python",
   "pygments_lexer": "ipython3",
   "version": "3.6.5"
  }
 },
 "nbformat": 4,
 "nbformat_minor": 2
}
